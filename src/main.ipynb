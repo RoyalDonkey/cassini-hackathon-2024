{
 "cells": [
  {
   "cell_type": "code",
   "execution_count": 1,
   "id": "28c427fc-2563-4f2a-b7fe-65ce3fde1133",
   "metadata": {},
   "outputs": [],
   "source": [
    "import cdsapi"
   ]
  },
  {
   "cell_type": "code",
   "execution_count": 5,
   "id": "2fdc1048-5122-453c-bb61-06aab98706a7",
   "metadata": {},
   "outputs": [
    {
     "name": "stderr",
     "output_type": "stream",
     "text": [
      "2024-09-06 23:15:05,807 INFO Request ID is 218af5b3-1fee-46ae-9ec8-ee046ce8bf12\n",
      "2024-09-06 23:15:05,882 INFO status has been updated to accepted\n",
      "2024-09-06 23:15:54,761 INFO status has been updated to successful\n"
     ]
    },
    {
     "data": {
      "application/vnd.jupyter.widget-view+json": {
       "model_id": "",
       "version_major": 2,
       "version_minor": 0
      },
      "text/plain": [
       "2e519a585f4194cb8017839b4fce8703.grib:   0%|          | 0.00/1.98M [00:00<?, ?B/s]"
      ]
     },
     "metadata": {},
     "output_type": "display_data"
    },
    {
     "data": {
      "text/plain": [
       "'download.grib'"
      ]
     },
     "execution_count": 5,
     "metadata": {},
     "output_type": "execute_result"
    }
   ],
   "source": [
    "# Example taken from:\n",
    "# https://cds-beta.climate.copernicus.eu/how-to-api#use-the-cds-api-client-for-data-access\n",
    "\n",
    "client = cdsapi.Client()\n",
    "\n",
    "dataset = 'reanalysis-era5-pressure-levels'\n",
    "request = {\n",
    "    'product_type': ['reanalysis'],\n",
    "    'variable': ['geopotential'],\n",
    "    'year': ['2024'],\n",
    "    'month': ['03'],\n",
    "    'day': ['01'],\n",
    "    'time': ['13:00'],\n",
    "    'pressure_level': ['1000'],\n",
    "    'data_format': 'grib',\n",
    "}\n",
    "target = 'download.grib'\n",
    "\n",
    "client.retrieve(dataset, request, target)"
   ]
  }
 ],
 "metadata": {
  "kernelspec": {
   "display_name": "hackathon",
   "language": "python",
   "name": "hackathon"
  },
  "language_info": {
   "codemirror_mode": {
    "name": "ipython",
    "version": 3
   },
   "file_extension": ".py",
   "mimetype": "text/x-python",
   "name": "python",
   "nbconvert_exporter": "python",
   "pygments_lexer": "ipython3",
   "version": "3.12.5"
  }
 },
 "nbformat": 4,
 "nbformat_minor": 5
}
