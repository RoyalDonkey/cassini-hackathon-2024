{
 "cells": [
  {
   "cell_type": "code",
   "execution_count": 1,
   "id": "28c427fc-2563-4f2a-b7fe-65ce3fde1133",
   "metadata": {},
   "outputs": [],
   "source": [
    "import cdsapi"
   ]
  },
  {
   "cell_type": "code",
   "execution_count": 5,
   "id": "2fdc1048-5122-453c-bb61-06aab98706a7",
   "metadata": {},
   "outputs": [
    {
     "name": "stderr",
     "output_type": "stream",
     "text": [
      "2024-09-06 23:15:05,807 INFO Request ID is 218af5b3-1fee-46ae-9ec8-ee046ce8bf12\n",
      "2024-09-06 23:15:05,882 INFO status has been updated to accepted\n",
      "2024-09-06 23:15:54,761 INFO status has been updated to successful\n"
     ]
    },
    {
     "data": {
      "application/vnd.jupyter.widget-view+json": {
       "model_id": "",
       "version_major": 2,
       "version_minor": 0
      },
      "text/plain": [
       "2e519a585f4194cb8017839b4fce8703.grib:   0%|          | 0.00/1.98M [00:00<?, ?B/s]"
      ]
     },
     "metadata": {},
     "output_type": "display_data"
    },
    {
     "data": {
      "text/plain": [
       "'download.grib'"
      ]
     },
     "execution_count": 5,
     "metadata": {},
     "output_type": "execute_result"
    }
   ],
   "source": [
    "# # Example taken from:\n",
    "# # https://cds-beta.climate.copernicus.eu/how-to-api#use-the-cds-api-client-for-data-access\n",
    "\n",
    "# client = cdsapi.Client()\n",
    "\n",
    "# dataset = 'reanalysis-era5-pressure-levels'\n",
    "# request = {\n",
    "#     'product_type': ['reanalysis'],\n",
    "#     'variable': ['geopotential'],\n",
    "#     'year': ['2024'],\n",
    "#     'month': ['03'],\n",
    "#     'day': ['01'],\n",
    "#     'time': ['13:00'],\n",
    "#     'pressure_level': ['1000'],\n",
    "#     'data_format': 'grib',\n",
    "# }\n",
    "# target = 'download.grib'\n",
    "\n",
    "# client.retrieve(dataset, request, target)"
   ]
  },
  {
   "cell_type": "code",
   "execution_count": 6,
   "id": "d480e17b",
   "metadata": {},
   "outputs": [
    {
     "name": "stderr",
     "output_type": "stream",
     "text": [
      "2024-09-14 11:45:19,618 INFO Request ID is d03495f1-159f-463b-86bd-db3814970d17\n",
      "2024-09-14 11:45:19,694 INFO status has been updated to accepted\n",
      "2024-09-14 11:45:21,270 INFO status has been updated to running\n",
      "2024-09-14 11:45:27,023 INFO Creating download object as zip with files:\n",
      "['01_mean_temperature-reanalysis-yearly-grid-1940-2023-v1.0.nc']\n",
      "2024-09-14 11:45:39,825 INFO status has been updated to successful\n",
      "                                                                                          \r"
     ]
    },
    {
     "data": {
      "text/plain": [
       "'7a1cb6bf42e16f5188e771f1f1b744e4.zip'"
      ]
     },
     "execution_count": 6,
     "metadata": {},
     "output_type": "execute_result"
    }
   ],
   "source": [
    "\n",
    "dataset = \"sis-ecde-climate-indicators\"\n",
    "request = {\n",
    "    'variable': ['mean_temperature'],\n",
    "    'origin': 'reanalysis',\n",
    "    'temporal_aggregation': ['yearly'],\n",
    "    'spatial_aggregation': 'gridded'\n",
    "}\n",
    "\n",
    "client = cdsapi.Client()\n",
    "client.retrieve(dataset, request).download()"
   ]
  },
  {
   "cell_type": "code",
   "execution_count": 7,
   "id": "57baaa19",
   "metadata": {},
   "outputs": [],
   "source": [
    "import zipfile"
   ]
  },
  {
   "cell_type": "code",
   "execution_count": 8,
   "id": "4d60d75e",
   "metadata": {},
   "outputs": [],
   "source": [
    "path_to_zip_file = '/home/bogna/Projects/cassini-hackathon-2024/src/7a1cb6bf42e16f5188e771f1f1b744e4.zip'\n",
    "directory_to_extract_to = '/home/bogna/Projects/cassini-hackathon-2024/src/data/7a1cb6bf42e16f5188e771f1f1b744e4'\n",
    "\n",
    "with zipfile.ZipFile(path_to_zip_file, 'r') as zip_ref:\n",
    "    zip_ref.extractall(directory_to_extract_to)"
   ]
  },
  {
   "cell_type": "code",
   "execution_count": 3,
   "id": "4839d4db",
   "metadata": {},
   "outputs": [],
   "source": [
    "#from scipy.io import netcdf\n",
    "#import numpy as np\n",
    "#import matplotlib\n",
    "#import matplotlib.pyplot as plt\n",
    "import netCDF4"
   ]
  },
  {
   "cell_type": "code",
   "execution_count": 13,
   "id": "94c6e916",
   "metadata": {},
   "outputs": [
    {
     "name": "stdout",
     "output_type": "stream",
     "text": [
      "dict_keys(['time', 'realization', 'lat', 'lon', 't2m'])\n",
      "<class 'netCDF4._netCDF4.Dataset'>\n",
      "root group (NETCDF4 data model, file format HDF5):\n",
      "    Conventions: CF-1.7\n",
      "    institution: European Centre for Medium-Range Weather Forecasts\n",
      "    history: 2024-04-02T13:52 GRIB to CDM+CF via cfgrib-0.9.9.1/ecCodes-2.27.0 with {\"source\": \"/nfs/compute-0014/data3/adaptor.mars.internal-1712065708.8353992-6424-6-39247118-b7b6-4b87-8957-46d0ba425a8f.grib\", \"filter_by_keys\": {}, \"encode_cf\": [\"parameter\", \"time\", \"geography\", \"vertical\"]}\n",
      "    source: ECMWF\n",
      "    dimensions(sizes): time(84), lat(185), lon(271)\n",
      "    variables(dimensions): int64 time(time), int64 realization(), float64 lat(lat), float64 lon(lon), float32 t2m(time, lat, lon)\n",
      "    groups: \n",
      "[[[294.11819458 294.0920105  294.07427979 ... 296.23748779 296.26739502\n",
      "   296.31759644]\n",
      "  [294.06552124 294.03820801 294.01040649 ... 296.29989624 296.35366821\n",
      "   296.41659546]\n",
      "  [294.01037598 293.97909546 293.94961548 ... 296.27139282 296.29733276\n",
      "   296.67700195]\n",
      "  ...\n",
      "  [263.03048706 263.28866577 263.25842285 ... 272.29727173 272.22219849\n",
      "   272.12460327]\n",
      "  [262.3374939  262.70040894 263.0647583  ... 272.16339111 272.06219482\n",
      "   271.96563721]\n",
      "  [261.56219482 262.20977783 262.56936646 ... 272.01080322 271.92156982\n",
      "   271.85998535]]\n",
      "\n",
      " [[294.0562439  294.04174805 294.03717041 ... 296.95718384 297.02600098\n",
      "   297.12094116]\n",
      "  [293.99893188 293.98306274 293.96853638 ... 296.96878052 297.02462769\n",
      "   297.11804199]\n",
      "  [293.94082642 293.91690063 293.90054321 ... 296.87811279 296.88668823\n",
      "   297.28729248]\n",
      "  ...\n",
      "  [263.24917603 263.52389526 263.50927734 ... 271.12741089 271.04278564\n",
      "   270.93395996]\n",
      "  [262.56188965 262.93231201 263.30383301 ... 271.04553223 270.93667603\n",
      "   270.82897949]\n",
      "  [261.88339233 262.51596069 262.88272095 ... 270.92858887 270.83087158\n",
      "   270.75628662]]\n",
      "\n",
      " [[294.043396   294.01275635 293.99841309 ... 297.15075684 297.19110107\n",
      "   297.26806641]\n",
      "  [293.98583984 293.95391846 293.92776489 ... 297.09213257 297.14517212\n",
      "   297.21728516]\n",
      "  [293.92581177 293.89151001 293.86410522 ... 296.95123291 296.96569824\n",
      "   297.30960083]\n",
      "  ...\n",
      "  [263.19400024 263.48925781 263.4725647  ... 272.51635742 272.45501709\n",
      "   272.37661743]\n",
      "  [262.50463867 262.89788818 263.29223633 ... 272.38040161 272.30953979\n",
      "   272.23190308]\n",
      "  [261.73306274 262.42300415 262.81222534 ... 272.2149353  272.15325928\n",
      "   272.10638428]]\n",
      "\n",
      " ...\n",
      "\n",
      " [[294.61465454 294.59176636 294.57080078 ... 300.2723999  300.29238892\n",
      "   300.34085083]\n",
      "  [294.55093384 294.52664185 294.50012207 ... 300.24493408 300.26452637\n",
      "   300.31964111]\n",
      "  [294.48956299 294.45727539 294.42880249 ... 300.12005615 300.10302734\n",
      "   300.46343994]\n",
      "  ...\n",
      "  [266.75341797 267.08950806 267.19937134 ... 273.97860718 273.88754272\n",
      "   273.81091309]\n",
      "  [266.18228149 266.5760498  266.97045898 ... 273.91439819 273.85055542\n",
      "   273.77523804]\n",
      "  [265.79049683 266.30172729 266.69119263 ... 273.7802124  273.72717285\n",
      "   273.68991089]]\n",
      "\n",
      " [[294.65533447 294.64016724 294.63049316 ... 299.88693237 299.93222046\n",
      "   300.00341797]\n",
      "  [294.60794067 294.59207153 294.57696533 ... 299.82962036 299.91308594\n",
      "   299.99200439]\n",
      "  [294.55136108 294.53649902 294.51983643 ... 299.73226929 299.77722168\n",
      "   300.11322021]\n",
      "  ...\n",
      "  [264.95275879 265.1552124  265.21017456 ... 275.29708862 275.2522583\n",
      "   275.20825195]\n",
      "  [264.4385376  264.68966675 264.94091797 ... 275.20193481 275.16778564\n",
      "   275.1244812 ]\n",
      "  [264.10610962 264.43377686 264.68191528 ... 275.04116821 275.01745605\n",
      "   275.01104736]]\n",
      "\n",
      " [[295.74673462 295.73175049 295.72311401 ... 299.568573   299.61026001\n",
      "   299.69161987]\n",
      "  [295.68838501 295.67077637 295.65283203 ... 299.52532959 299.57553101\n",
      "   299.65216064]\n",
      "  [295.62768555 295.60159302 295.58172607 ... 299.418396   299.45050049\n",
      "   299.77377319]\n",
      "  ...\n",
      "  [264.35900879 264.56698608 264.58303833 ... 275.69631958 275.66482544\n",
      "   275.63204956]\n",
      "  [263.80023193 264.10018921 264.40176392 ... 275.60861206 275.57962036\n",
      "   275.54730225]\n",
      "  [263.42544556 263.87841797 264.17614746 ... 275.45098877 275.4331665\n",
      "   275.43832397]]]\n"
     ]
    }
   ],
   "source": [
    "path_to_file = '/home/bogna/Projects/cassini-hackathon-2024/src/data/7a1cb6bf42e16f5188e771f1f1b744e4/01_mean_temperature-reanalysis-yearly-grid-1940-2023-v1.0.nc'\n",
    "\n",
    "file2read = netCDF4.Dataset(path,'r')\n",
    "#file2read = netcdf.NetCDFFile(path,'r')\n",
    "print(file2read.variables.keys())\n",
    "print(file2read)\n",
    "temp = file2read.variables['t2m']\n",
    "#temp = file2read.variables['time'] # var can be 'Theta', 'S', 'V', 'U' etc..\n",
    "data = temp[:]*1\n",
    "#file2read.close()\n",
    "print(data)"
   ]
  }
 ],
 "metadata": {
  "kernelspec": {
   "display_name": "Python 3",
   "language": "python",
   "name": "python3"
  },
  "language_info": {
   "codemirror_mode": {
    "name": "ipython",
    "version": 3
   },
   "file_extension": ".py",
   "mimetype": "text/x-python",
   "name": "python",
   "nbconvert_exporter": "python",
   "pygments_lexer": "ipython3",
   "version": "3.10.12"
  }
 },
 "nbformat": 4,
 "nbformat_minor": 5
}
