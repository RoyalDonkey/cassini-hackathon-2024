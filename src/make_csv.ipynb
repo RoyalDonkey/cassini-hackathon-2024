{
 "cells": [
  {
   "cell_type": "code",
   "execution_count": 1,
   "id": "28c427fc-2563-4f2a-b7fe-65ce3fde1133",
   "metadata": {},
   "outputs": [],
   "source": [
    "import cdsapi"
   ]
  },
  {
   "cell_type": "code",
   "execution_count": 5,
   "id": "2fdc1048-5122-453c-bb61-06aab98706a7",
   "metadata": {},
   "outputs": [
    {
     "name": "stderr",
     "output_type": "stream",
     "text": [
      "2024-09-06 23:15:05,807 INFO Request ID is 218af5b3-1fee-46ae-9ec8-ee046ce8bf12\n",
      "2024-09-06 23:15:05,882 INFO status has been updated to accepted\n",
      "2024-09-06 23:15:54,761 INFO status has been updated to successful\n"
     ]
    },
    {
     "data": {
      "application/vnd.jupyter.widget-view+json": {
       "model_id": "",
       "version_major": 2,
       "version_minor": 0
      },
      "text/plain": [
       "2e519a585f4194cb8017839b4fce8703.grib:   0%|          | 0.00/1.98M [00:00<?, ?B/s]"
      ]
     },
     "metadata": {},
     "output_type": "display_data"
    },
    {
     "data": {
      "text/plain": [
       "'download.grib'"
      ]
     },
     "execution_count": 5,
     "metadata": {},
     "output_type": "execute_result"
    }
   ],
   "source": [
    "# # Example taken from:\n",
    "# # https://cds-beta.climate.copernicus.eu/how-to-api#use-the-cds-api-client-for-data-access\n",
    "\n",
    "# client = cdsapi.Client()\n",
    "\n",
    "# dataset = 'reanalysis-era5-pressure-levels'\n",
    "# request = {\n",
    "#     'product_type': ['reanalysis'],\n",
    "#     'variable': ['geopotential'],\n",
    "#     'year': ['2024'],\n",
    "#     'month': ['03'],\n",
    "#     'day': ['01'],\n",
    "#     'time': ['13:00'],\n",
    "#     'pressure_level': ['1000'],\n",
    "#     'data_format': 'grib',\n",
    "# }\n",
    "# target = 'download.grib'\n",
    "\n",
    "# client.retrieve(dataset, request, target)"
   ]
  },
  {
   "cell_type": "code",
   "execution_count": 6,
   "id": "d480e17b",
   "metadata": {},
   "outputs": [
    {
     "name": "stderr",
     "output_type": "stream",
     "text": [
      "2024-09-14 11:45:19,618 INFO Request ID is d03495f1-159f-463b-86bd-db3814970d17\n",
      "2024-09-14 11:45:19,694 INFO status has been updated to accepted\n",
      "2024-09-14 11:45:21,270 INFO status has been updated to running\n",
      "2024-09-14 11:45:27,023 INFO Creating download object as zip with files:\n",
      "['01_mean_temperature-reanalysis-yearly-grid-1940-2023-v1.0.nc']\n",
      "2024-09-14 11:45:39,825 INFO status has been updated to successful\n",
      "                                                                                          \r"
     ]
    },
    {
     "data": {
      "text/plain": [
       "'7a1cb6bf42e16f5188e771f1f1b744e4.zip'"
      ]
     },
     "execution_count": 6,
     "metadata": {},
     "output_type": "execute_result"
    }
   ],
   "source": [
    "\n",
    "dataset = \"sis-ecde-climate-indicators\"\n",
    "request = {\n",
    "    'variable': ['mean_temperature'],\n",
    "    'origin': 'reanalysis',\n",
    "    'temporal_aggregation': ['yearly'],\n",
    "    'spatial_aggregation': 'gridded'\n",
    "}\n",
    "\n",
    "client = cdsapi.Client()\n",
    "client.retrieve(dataset, request).download()"
   ]
  },
  {
   "cell_type": "code",
   "execution_count": 7,
   "id": "57baaa19",
   "metadata": {},
   "outputs": [],
   "source": [
    "import zipfile"
   ]
  },
  {
   "cell_type": "code",
   "execution_count": 8,
   "id": "4d60d75e",
   "metadata": {},
   "outputs": [],
   "source": [
    "path_to_zip_file = '/home/bogna/Projects/cassini-hackathon-2024/src/7a1cb6bf42e16f5188e771f1f1b744e4.zip'\n",
    "directory_to_extract_to = '/home/bogna/Projects/cassini-hackathon-2024/src/data/7a1cb6bf42e16f5188e771f1f1b744e4'\n",
    "\n",
    "with zipfile.ZipFile(path_to_zip_file, 'r') as zip_ref:\n",
    "    zip_ref.extractall(directory_to_extract_to)"
   ]
  },
  {
   "cell_type": "code",
   "execution_count": 2,
   "id": "4839d4db",
   "metadata": {},
   "outputs": [],
   "source": [
    "#from scipy.io import netcdf\n",
    "#import numpy as np\n",
    "#import matplotlib\n",
    "#import matplotlib.pyplot as plt\n",
    "import netCDF4"
   ]
  },
  {
   "cell_type": "code",
   "execution_count": 4,
   "id": "94c6e916",
   "metadata": {},
   "outputs": [
    {
     "name": "stdout",
     "output_type": "stream",
     "text": [
      "dict_keys(['time', 'realization', 'lat', 'lon', 't2m'])\n",
      "<class 'netCDF4._netCDF4.Dataset'>\n",
      "root group (NETCDF4 data model, file format HDF5):\n",
      "    Conventions: CF-1.7\n",
      "    institution: European Centre for Medium-Range Weather Forecasts\n",
      "    history: 2024-04-02T13:52 GRIB to CDM+CF via cfgrib-0.9.9.1/ecCodes-2.27.0 with {\"source\": \"/nfs/compute-0014/data3/adaptor.mars.internal-1712065708.8353992-6424-6-39247118-b7b6-4b87-8957-46d0ba425a8f.grib\", \"filter_by_keys\": {}, \"encode_cf\": [\"parameter\", \"time\", \"geography\", \"vertical\"]}\n",
      "    source: ECMWF\n",
      "    dimensions(sizes): time(84), lat(185), lon(271)\n",
      "    variables(dimensions): int64 time(time), int64 realization(), float64 lat(lat), float64 lon(lon), float32 t2m(time, lat, lon)\n",
      "    groups: \n",
      "[[[294.1182  294.092   294.07428 ... 296.2375  296.2674  296.3176 ]\n",
      "  [294.06552 294.0382  294.0104  ... 296.2999  296.35367 296.4166 ]\n",
      "  [294.01038 293.9791  293.94962 ... 296.2714  296.29733 296.677  ]\n",
      "  ...\n",
      "  [263.0305  263.28867 263.25842 ... 272.29727 272.2222  272.1246 ]\n",
      "  [262.3375  262.7004  263.06476 ... 272.1634  272.0622  271.96564]\n",
      "  [261.5622  262.20978 262.56937 ... 272.0108  271.92157 271.86   ]]\n",
      "\n",
      " [[294.05624 294.04175 294.03717 ... 296.95718 297.026   297.12094]\n",
      "  [293.99893 293.98306 293.96854 ... 296.96878 297.02463 297.11804]\n",
      "  [293.94083 293.9169  293.90054 ... 296.8781  296.8867  297.2873 ]\n",
      "  ...\n",
      "  [263.24918 263.5239  263.50928 ... 271.1274  271.0428  270.93396]\n",
      "  [262.5619  262.9323  263.30383 ... 271.04553 270.93668 270.82898]\n",
      "  [261.8834  262.51596 262.88272 ... 270.9286  270.83087 270.7563 ]]\n",
      "\n",
      " [[294.0434  294.01276 293.9984  ... 297.15076 297.1911  297.26807]\n",
      "  [293.98584 293.95392 293.92776 ... 297.09213 297.14517 297.2173 ]\n",
      "  [293.9258  293.8915  293.8641  ... 296.95123 296.9657  297.3096 ]\n",
      "  ...\n",
      "  [263.194   263.48926 263.47256 ... 272.51636 272.45502 272.37662]\n",
      "  [262.50464 262.8979  263.29224 ... 272.3804  272.30954 272.2319 ]\n",
      "  [261.73306 262.423   262.81223 ... 272.21494 272.15326 272.10638]]\n",
      "\n",
      " ...\n",
      "\n",
      " [[294.61465 294.59177 294.5708  ... 300.2724  300.2924  300.34085]\n",
      "  [294.55093 294.52664 294.50012 ... 300.24493 300.26453 300.31964]\n",
      "  [294.48956 294.45728 294.4288  ... 300.12006 300.10303 300.46344]\n",
      "  ...\n",
      "  [266.75342 267.0895  267.19937 ... 273.9786  273.88754 273.8109 ]\n",
      "  [266.18228 266.57605 266.97046 ... 273.9144  273.85056 273.77524]\n",
      "  [265.7905  266.30173 266.6912  ... 273.7802  273.72717 273.6899 ]]\n",
      "\n",
      " [[294.65533 294.64017 294.6305  ... 299.88693 299.93222 300.00342]\n",
      "  [294.60794 294.59207 294.57697 ... 299.82962 299.9131  299.992  ]\n",
      "  [294.55136 294.5365  294.51984 ... 299.73227 299.77722 300.11322]\n",
      "  ...\n",
      "  [264.95276 265.1552  265.21017 ... 275.2971  275.25226 275.20825]\n",
      "  [264.43854 264.68967 264.94092 ... 275.20193 275.1678  275.12448]\n",
      "  [264.1061  264.43378 264.68192 ... 275.04117 275.01746 275.01105]]\n",
      "\n",
      " [[295.74673 295.73175 295.7231  ... 299.56857 299.61026 299.69162]\n",
      "  [295.6884  295.67078 295.65283 ... 299.52533 299.57553 299.65216]\n",
      "  [295.6277  295.6016  295.58173 ... 299.4184  299.4505  299.77377]\n",
      "  ...\n",
      "  [264.359   264.567   264.58304 ... 275.69632 275.66483 275.63205]\n",
      "  [263.80023 264.1002  264.40176 ... 275.6086  275.57962 275.5473 ]\n",
      "  [263.42545 263.87842 264.17615 ... 275.451   275.43317 275.43832]]]\n"
     ]
    }
   ],
   "source": [
    "path_to_file = '/home/bogna/Projects/cassini-hackathon-2024/src/data/7a1cb6bf42e16f5188e771f1f1b744e4/01_mean_temperature-reanalysis-yearly-grid-1940-2023-v1.0.nc'\n",
    "\n",
    "file2read = netCDF4.Dataset(path_to_file,'r')\n",
    "#file2read = netcdf.NetCDFFile(path,'r')\n",
    "print(file2read.variables.keys())\n",
    "print(file2read)\n",
    "temp = file2read.variables['t2m']\n",
    "#temp = file2read.variables['time'] # var can be 'Theta', 'S', 'V', 'U' etc..\n",
    "data = temp[:]\n",
    "#file2read.close()\n",
    "print(data)"
   ]
  },
  {
   "cell_type": "code",
   "execution_count": 5,
   "id": "9a672dfd",
   "metadata": {},
   "outputs": [],
   "source": [
    "time = file2read.variables['time'][:]\n",
    "lat = file2read.variables['lat'][:]\n",
    "lon = file2read.variables['lon'][:]\n",
    "val = file2read.variables['t2m'][:]"
   ]
  },
  {
   "cell_type": "code",
   "execution_count": 6,
   "id": "563f8cd1",
   "metadata": {},
   "outputs": [],
   "source": [
    "def iter_3D(matrix):\n",
    "    for i in range(matrix.shape[0]):\n",
    "        for j in range(matrix.shape[1]):\n",
    "            for k in range(matrix.shape[2]):\n",
    "                yield i, j, k"
   ]
  },
  {
   "cell_type": "code",
   "execution_count": 11,
   "id": "bd0fbc4d",
   "metadata": {},
   "outputs": [],
   "source": [
    "l = []\n",
    "\n",
    "l.append('time, lat, lon, m2t')\n",
    "\n",
    "for i, j, k in iter_3D(val):\n",
    "    l.append('%d, %.2f, %.2f, %.2f' %((time[i]/365 + 1940), lat[j], lon[k], val[i, j, k]-273.15))\n",
    "\n",
    "with open('file.csv', 'w') as f:\n",
    "    f.write(\"\\n\".join(l))"
   ]
  }
 ],
 "metadata": {
  "kernelspec": {
   "display_name": "Python 3",
   "language": "python",
   "name": "python3"
  },
  "language_info": {
   "codemirror_mode": {
    "name": "ipython",
    "version": 3
   },
   "file_extension": ".py",
   "mimetype": "text/x-python",
   "name": "python",
   "nbconvert_exporter": "python",
   "pygments_lexer": "ipython3",
   "version": "3.10.12"
  }
 },
 "nbformat": 4,
 "nbformat_minor": 5
}
