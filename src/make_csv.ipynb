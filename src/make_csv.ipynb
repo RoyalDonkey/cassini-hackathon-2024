{
 "cells": [
  {
   "cell_type": "code",
   "execution_count": 1,
   "id": "28c427fc-2563-4f2a-b7fe-65ce3fde1133",
   "metadata": {},
   "outputs": [],
   "source": [
    "import cdsapi"
   ]
  },
  {
   "cell_type": "code",
   "execution_count": 5,
   "id": "2fdc1048-5122-453c-bb61-06aab98706a7",
   "metadata": {},
   "outputs": [
    {
     "name": "stderr",
     "output_type": "stream",
     "text": [
      "2024-09-06 23:15:05,807 INFO Request ID is 218af5b3-1fee-46ae-9ec8-ee046ce8bf12\n",
      "2024-09-06 23:15:05,882 INFO status has been updated to accepted\n",
      "2024-09-06 23:15:54,761 INFO status has been updated to successful\n"
     ]
    },
    {
     "data": {
      "application/vnd.jupyter.widget-view+json": {
       "model_id": "",
       "version_major": 2,
       "version_minor": 0
      },
      "text/plain": [
       "2e519a585f4194cb8017839b4fce8703.grib:   0%|          | 0.00/1.98M [00:00<?, ?B/s]"
      ]
     },
     "metadata": {},
     "output_type": "display_data"
    },
    {
     "data": {
      "text/plain": [
       "'download.grib'"
      ]
     },
     "execution_count": 5,
     "metadata": {},
     "output_type": "execute_result"
    }
   ],
   "source": [
    "# # Example taken from:\n",
    "# # https://cds-beta.climate.copernicus.eu/how-to-api#use-the-cds-api-client-for-data-access\n",
    "\n",
    "# client = cdsapi.Client()\n",
    "\n",
    "# dataset = 'reanalysis-era5-pressure-levels'\n",
    "# request = {\n",
    "#     'product_type': ['reanalysis'],\n",
    "#     'variable': ['geopotential'],\n",
    "#     'year': ['2024'],\n",
    "#     'month': ['03'],\n",
    "#     'day': ['01'],\n",
    "#     'time': ['13:00'],\n",
    "#     'pressure_level': ['1000'],\n",
    "#     'data_format': 'grib',\n",
    "# }\n",
    "# target = 'download.grib'\n",
    "\n",
    "# client.retrieve(dataset, request, target)"
   ]
  },
  {
   "cell_type": "code",
   "execution_count": 7,
   "id": "d480e17b",
   "metadata": {},
   "outputs": [
    {
     "name": "stderr",
     "output_type": "stream",
     "text": [
      "2024-09-14 14:05:26,029 INFO Request ID is c77b0967-a993-4e2a-8ef2-df95a25057dc\n",
      "2024-09-14 14:05:26,092 INFO status has been updated to accepted\n",
      "2024-09-14 14:05:27,677 INFO status has been updated to running\n",
      "2024-09-14 14:05:38,559 INFO Creating download object as zip with files:\n",
      "['06_hot_days-reanalysis-yearly-30deg-grid-1940-2023-v1.0.nc', '11_frost_days-reanalysis-yearly-grid-1940-2023-v1.0.nc', '19_duration_of_meteorological_droughts-reanalysis-yearly-grid-1940-2023-v1.0.nc']\n",
      "2024-09-14 14:05:38,561 INFO status has been updated to successful\n",
      "                                                                                          \r"
     ]
    },
    {
     "data": {
      "text/plain": [
       "'47185a9390b89ceb75159c8bdce5a232.zip'"
      ]
     },
     "execution_count": 7,
     "metadata": {},
     "output_type": "execute_result"
    }
   ],
   "source": [
    "dataset = \"sis-ecde-climate-indicators\"\n",
    "request = {\n",
    "    'variable': ['hot_days', 'frost_days', 'duration_of_meteorological_droughts'],\n",
    "    'origin': 'reanalysis',\n",
    "    'temporal_aggregation': ['yearly'],\n",
    "    'spatial_aggregation': 'gridded',\n",
    "    'other_parameters': ['30_c']\n",
    "}\n",
    "\n",
    "client = cdsapi.Client()\n",
    "client.retrieve(dataset, request).download()"
   ]
  },
  {
   "cell_type": "code",
   "execution_count": 8,
   "id": "57baaa19",
   "metadata": {},
   "outputs": [],
   "source": [
    "import zipfile"
   ]
  },
  {
   "cell_type": "code",
   "execution_count": 13,
   "id": "4d60d75e",
   "metadata": {},
   "outputs": [],
   "source": [
    "zip_name = '47185a9390b89ceb75159c8bdce5a232'\n",
    "\n",
    "path_to_zip_file = f'{zip_name}.zip'\n",
    "directory_to_extract_to = f'data/{zip_name}'\n",
    "\n",
    "with zipfile.ZipFile(path_to_zip_file, 'r') as zip_ref:\n",
    "    zip_ref.extractall(directory_to_extract_to)"
   ]
  },
  {
   "cell_type": "code",
   "execution_count": 14,
   "id": "4839d4db",
   "metadata": {},
   "outputs": [],
   "source": [
    "import netCDF4"
   ]
  },
  {
   "cell_type": "code",
   "execution_count": 22,
   "id": "3a28bb46",
   "metadata": {},
   "outputs": [],
   "source": [
    "def read_nc_file(file_name):\n",
    "    path_to_file = f'data/{zip_name}/{file_name}'\n",
    "    file2read = netCDF4.Dataset(path_to_file,'r')\n",
    "    #file2read = netcdf.NetCDFFile(path,'r')\n",
    "    keys = file2read.variables.keys()\n",
    "    print(keys)\n",
    "    print(file2read)\n",
    "    data = file2read.variables['time'][:]\n",
    "    print(data)\n",
    "    file2read.close()"
   ]
  },
  {
   "cell_type": "code",
   "execution_count": 24,
   "id": "94c6e916",
   "metadata": {},
   "outputs": [
    {
     "name": "stdout",
     "output_type": "stream",
     "text": [
      "dict_keys(['time', 'realization', 'lat', 'lon', 't2m'])\n",
      "<class 'netCDF4._netCDF4.Dataset'>\n",
      "root group (NETCDF4 data model, file format HDF5):\n",
      "    Conventions: CF-1.7\n",
      "    institution: European Centre for Medium-Range Weather Forecasts\n",
      "    history: 2024-04-02T13:52 GRIB to CDM+CF via cfgrib-0.9.9.1/ecCodes-2.27.0 with {\"source\": \"/nfs/compute-0014/data3/adaptor.mars.internal-1712065708.8353992-6424-6-39247118-b7b6-4b87-8957-46d0ba425a8f.grib\", \"filter_by_keys\": {}, \"encode_cf\": [\"parameter\", \"time\", \"geography\", \"vertical\"]}\n",
      "    source: ECMWF\n",
      "    dimensions(sizes): time(84), lat(185), lon(271)\n",
      "    variables(dimensions): int64 time(time), int64 realization(), float64 lat(lat), float64 lon(lon), float32 t2m(time, lat, lon)\n",
      "    groups: \n",
      "[    0   366   731  1096  1461  1827  2192  2557  2922  3288  3653  4018\n",
      "  4383  4749  5114  5479  5844  6210  6575  6940  7305  7671  8036  8401\n",
      "  8766  9132  9497  9862 10227 10593 10958 11323 11688 12054 12419 12784\n",
      " 13149 13515 13880 14245 14610 14976 15341 15706 16071 16437 16802 17167\n",
      " 17532 17898 18263 18628 18993 19359 19724 20089 20454 20820 21185 21550\n",
      " 21915 22281 22646 23011 23376 23742 24107 24472 24837 25203 25568 25933\n",
      " 26298 26664 27029 27394 27759 28125 28490 28855 29220 29586 29951 30316]\n",
      "\n",
      "\n",
      "\n",
      "\n",
      "dict_keys(['time', 'realization', 'lat', 'lon', 't2m'])\n",
      "<class 'netCDF4._netCDF4.Dataset'>\n",
      "root group (NETCDF4 data model, file format HDF5):\n",
      "    dimensions(sizes): time(84), lat(185), lon(271)\n",
      "    variables(dimensions): int64 time(time), int64 realization(), float64 lat(lat), float64 lon(lon), int64 t2m(time, lat, lon)\n",
      "    groups: \n",
      "[    0   366   731  1096  1461  1827  2192  2557  2922  3288  3653  4018\n",
      "  4383  4749  5114  5479  5844  6210  6575  6940  7305  7671  8036  8401\n",
      "  8766  9132  9497  9862 10227 10593 10958 11323 11688 12054 12419 12784\n",
      " 13149 13515 13880 14245 14610 14976 15341 15706 16071 16437 16802 17167\n",
      " 17532 17898 18263 18628 18993 19359 19724 20089 20454 20820 21185 21550\n",
      " 21915 22281 22646 23011 23376 23742 24107 24472 24837 25203 25568 25933\n",
      " 26298 26664 27029 27394 27759 28125 28490 28855 29220 29586 29951 30316]\n",
      "\n",
      "\n",
      "\n",
      "\n",
      "dict_keys(['time', 'realization', 'lat', 'lon', 't2m'])\n",
      "<class 'netCDF4._netCDF4.Dataset'>\n",
      "root group (NETCDF4 data model, file format HDF5):\n",
      "    dimensions(sizes): time(84), lat(185), lon(271)\n",
      "    variables(dimensions): int64 time(time), int64 realization(), float64 lat(lat), float64 lon(lon), int64 t2m(time, lat, lon)\n",
      "    groups: \n",
      "[    0   366   731  1096  1461  1827  2192  2557  2922  3288  3653  4018\n",
      "  4383  4749  5114  5479  5844  6210  6575  6940  7305  7671  8036  8401\n",
      "  8766  9132  9497  9862 10227 10593 10958 11323 11688 12054 12419 12784\n",
      " 13149 13515 13880 14245 14610 14976 15341 15706 16071 16437 16802 17167\n",
      " 17532 17898 18263 18628 18993 19359 19724 20089 20454 20820 21185 21550\n",
      " 21915 22281 22646 23011 23376 23742 24107 24472 24837 25203 25568 25933\n",
      " 26298 26664 27029 27394 27759 28125 28490 28855 29220 29586 29951 30316]\n",
      "\n",
      "\n",
      "\n",
      "\n",
      "dict_keys(['lat', 'lon', 'realization', 'time', 'dmd'])\n",
      "<class 'netCDF4._netCDF4.Dataset'>\n",
      "root group (NETCDF4 data model, file format HDF5):\n",
      "    dimensions(sizes): lat(185), lon(271), time(84)\n",
      "    variables(dimensions): float64 lat(lat), float64 lon(lon), int64 realization(), int64 time(time), int64 dmd(time, lat, lon)\n",
      "    groups: \n",
      "[    0   366   731  1096  1461  1827  2192  2557  2922  3288  3653  4018\n",
      "  4383  4749  5114  5479  5844  6210  6575  6940  7305  7671  8036  8401\n",
      "  8766  9132  9497  9862 10227 10593 10958 11323 11688 12054 12419 12784\n",
      " 13149 13515 13880 14245 14610 14976 15341 15706 16071 16437 16802 17167\n",
      " 17532 17898 18263 18628 18993 19359 19724 20089 20454 20820 21185 21550\n",
      " 21915 22281 22646 23011 23376 23742 24107 24472 24837 25203 25568 25933\n",
      " 26298 26664 27029 27394 27759 28125 28490 28855 29220 29586 29951 30316]\n",
      "\n",
      "\n",
      "\n",
      "\n"
     ]
    }
   ],
   "source": [
    "for name in ['01_mean_temperature-reanalysis-yearly-grid-1940-2023-v1.0.nc',\n",
    "             '06_hot_days-reanalysis-yearly-30deg-grid-1940-2023-v1.0.nc',\n",
    "             '11_frost_days-reanalysis-yearly-grid-1940-2023-v1.0.nc',\n",
    "             '19_duration_of_meteorological_droughts-reanalysis-yearly-grid-1940-2023-v1.0.nc']:\n",
    "    read_nc_file(name)\n",
    "    print('\\n\\n\\n')"
   ]
  },
  {
   "cell_type": "code",
   "execution_count": 25,
   "id": "9a672dfd",
   "metadata": {},
   "outputs": [],
   "source": [
    "file_name = '01_mean_temperature-reanalysis-yearly-grid-1940-2023-v1.0.nc'\n",
    "path_to_file = f'data/{zip_name}/{file_name}'\n",
    "\n",
    "file2read = netCDF4.Dataset(path_to_file,'r')\n",
    "\n",
    "time = file2read.variables['time'][:]\n",
    "lat = file2read.variables['lat'][:]\n",
    "lon = file2read.variables['lon'][:]\n",
    "mean_temperature = file2read.variables['t2m'][:]\n",
    "\n",
    "file2read.close()"
   ]
  },
  {
   "cell_type": "code",
   "execution_count": 29,
   "id": "d273fcf9",
   "metadata": {},
   "outputs": [],
   "source": [
    "file_name = '06_hot_days-reanalysis-yearly-30deg-grid-1940-2023-v1.0.nc'\n",
    "\n",
    "path_to_file = f'data/{zip_name}/{file_name}'\n",
    "file2read = netCDF4.Dataset(path_to_file,'r')\n",
    "hot_days = file2read.variables['t2m'][:]\n",
    "\n",
    "file2read.close()"
   ]
  },
  {
   "cell_type": "code",
   "execution_count": 30,
   "id": "4cf53ca2",
   "metadata": {},
   "outputs": [],
   "source": [
    "file_name = '11_frost_days-reanalysis-yearly-grid-1940-2023-v1.0.nc'\n",
    "\n",
    "path_to_file = f'data/{zip_name}/{file_name}'\n",
    "file2read = netCDF4.Dataset(path_to_file,'r')\n",
    "frost_days = file2read.variables['t2m'][:]\n",
    "\n",
    "file2read.close()"
   ]
  },
  {
   "cell_type": "code",
   "execution_count": 31,
   "id": "cf90bcda",
   "metadata": {},
   "outputs": [],
   "source": [
    "file_name = '19_duration_of_meteorological_droughts-reanalysis-yearly-grid-1940-2023-v1.0.nc'\n",
    "\n",
    "path_to_file = f'data/{zip_name}/{file_name}'\n",
    "file2read = netCDF4.Dataset(path_to_file,'r')\n",
    "droughts = file2read.variables['dmd'][:]\n",
    "\n",
    "file2read.close()"
   ]
  },
  {
   "cell_type": "code",
   "execution_count": 32,
   "id": "563f8cd1",
   "metadata": {},
   "outputs": [],
   "source": [
    "def iter_3D(matrix):\n",
    "    for i in range(matrix.shape[0]):\n",
    "        for j in range(matrix.shape[1]):\n",
    "            for k in range(matrix.shape[2]):\n",
    "                yield i, j, k"
   ]
  },
  {
   "cell_type": "code",
   "execution_count": 34,
   "id": "bd0fbc4d",
   "metadata": {},
   "outputs": [],
   "source": [
    "l = []\n",
    "\n",
    "l.append('time, lat, lon, mean_t, hot_d, cold_d, droughts')\n",
    "\n",
    "for i, j, k in iter_3D(mean_temperature):\n",
    "    l.append('%d,%.2f,%.2f,%.2f,%d,%d,%d' %((time[i]/365 + 1940), lat[j], lon[k],\n",
    "                                    mean_temperature[i, j, k]-273.15,\n",
    "                                    hot_days[i, j, k],\n",
    "                                    frost_days[i, j, k],\n",
    "                                    droughts[i, j, k]))\n",
    "\n",
    "with open('file.csv', 'w') as f:\n",
    "    f.write(\"\\n\".join(l))"
   ]
  }
 ],
 "metadata": {
  "kernelspec": {
   "display_name": "Python 3",
   "language": "python",
   "name": "python3"
  },
  "language_info": {
   "codemirror_mode": {
    "name": "ipython",
    "version": 3
   },
   "file_extension": ".py",
   "mimetype": "text/x-python",
   "name": "python",
   "nbconvert_exporter": "python",
   "pygments_lexer": "ipython3",
   "version": "3.10.12"
  }
 },
 "nbformat": 4,
 "nbformat_minor": 5
}
