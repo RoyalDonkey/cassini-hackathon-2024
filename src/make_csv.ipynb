{
 "cells": [
  {
   "cell_type": "markdown",
   "id": "7154e34f",
   "metadata": {},
   "source": [
    "# Convert and concatenate netCDF data into CSV\n",
    "https://cds-beta.climate.copernicus.eu/datasets/sis-ecde-climate-indicators"
   ]
  },
  {
   "cell_type": "code",
   "execution_count": 1,
   "id": "28c427fc-2563-4f2a-b7fe-65ce3fde1133",
   "metadata": {},
   "outputs": [],
   "source": [
    "import cdsapi\n",
    "import zipfile\n",
    "import netCDF4\n",
    "import os"
   ]
  },
  {
   "cell_type": "markdown",
   "id": "5a0a1d03",
   "metadata": {},
   "source": [
    "### Functions"
   ]
  },
  {
   "cell_type": "code",
   "execution_count": 2,
   "id": "0bc6206a",
   "metadata": {},
   "outputs": [],
   "source": [
    "def get_and_unpack_data(dataset, request, dir_name):\n",
    "    path_to_zip_file = f'{dir_name}.zip'\n",
    "    directory_to_extract_to = f'data/{dir_name}'\n",
    "\n",
    "    client = cdsapi.Client()\n",
    "    client.retrieve(dataset, request, f'{dir_name}.zip')\n",
    "\n",
    "    with zipfile.ZipFile(path_to_zip_file, 'r') as zip_ref:\n",
    "        zip_ref.extractall(directory_to_extract_to)\n",
    "        os.remove(path_to_zip_file)\n",
    "\n",
    "    file_names = os.listdir(f'data/{dir_name}')\n",
    "\n",
    "    return file_names"
   ]
  },
  {
   "cell_type": "code",
   "execution_count": 3,
   "id": "0b55c9ea",
   "metadata": {},
   "outputs": [],
   "source": [
    "def read_nc_file(file_name, dir_name):\n",
    "    \n",
    "    path_to_file = f'data/{dir_name}/{file_name}'\n",
    "    file2read = netCDF4.Dataset(path_to_file,'r')\n",
    "    keys = file2read.variables.keys()\n",
    "\n",
    "    print(keys)\n",
    "    print(file2read)\n",
    "    data = file2read.variables['time'][:]\n",
    "    print(data)\n",
    "    print('\\n\\n\\n')\n",
    "\n",
    "    file2read.close()"
   ]
  },
  {
   "cell_type": "code",
   "execution_count": 4,
   "id": "4f036a15",
   "metadata": {},
   "outputs": [],
   "source": [
    "def get_time_lat_lon(file_name, dir_name):\n",
    "    \n",
    "    path_to_file = f'data/{dir_name}/{file_name}'\n",
    "    file2read = netCDF4.Dataset(path_to_file,'r')\n",
    "\n",
    "    time = file2read.variables['time'][:]\n",
    "    lat = file2read.variables['lat'][:]\n",
    "    lon = file2read.variables['lon'][:]\n",
    "\n",
    "    file2read.close()\n",
    "    \n",
    "    return time, lat, lon"
   ]
  },
  {
   "cell_type": "code",
   "execution_count": 5,
   "id": "1739a149",
   "metadata": {},
   "outputs": [],
   "source": [
    "def get_val_by_key(file_name, key, dir_name):\n",
    "    \n",
    "    path_to_file = f'data/{dir_name}/{file_name}'\n",
    "    file2read = netCDF4.Dataset(path_to_file,'r')\n",
    "\n",
    "    val = file2read.variables[key][:]\n",
    "    file2read.close()\n",
    "    \n",
    "    return val"
   ]
  },
  {
   "cell_type": "code",
   "execution_count": 6,
   "id": "c7b17d08",
   "metadata": {},
   "outputs": [],
   "source": [
    "def iter_3D(matrix):\n",
    "    for i in range(matrix.shape[0]):\n",
    "        for j in range(matrix.shape[1]):\n",
    "            for k in range(matrix.shape[2]):\n",
    "                yield i, j, k"
   ]
  },
  {
   "cell_type": "markdown",
   "id": "ed5dcc2d",
   "metadata": {},
   "source": [
    "### Reanalysis Data"
   ]
  },
  {
   "cell_type": "code",
   "execution_count": 7,
   "id": "d480e17b",
   "metadata": {},
   "outputs": [],
   "source": [
    "dir_name = 'reanalysis'\n",
    "\n",
    "dataset = \"sis-ecde-climate-indicators\"\n",
    "\n",
    "request = {\n",
    "    'variable': ['mean_temperature', 'hot_days', 'frost_days', 'duration_of_meteorological_droughts'],\n",
    "    'origin': 'reanalysis',\n",
    "    'temporal_aggregation': ['yearly'],\n",
    "    'spatial_aggregation': 'gridded',\n",
    "    'other_parameters': ['30_c']\n",
    "}\n"
   ]
  },
  {
   "cell_type": "code",
   "execution_count": 8,
   "id": "8ca95f28",
   "metadata": {},
   "outputs": [
    {
     "name": "stderr",
     "output_type": "stream",
     "text": [
      "2024-09-14 18:16:16,356 INFO Request ID is 04cfbfa4-0486-4834-bde7-712d682fc67e\n",
      "2024-09-14 18:16:16,413 INFO status has been updated to accepted\n",
      "2024-09-14 18:16:17,974 INFO status has been updated to running\n",
      "2024-09-14 18:16:20,279 INFO status has been updated to successful\n",
      "                                                                                         \r"
     ]
    },
    {
     "name": "stdout",
     "output_type": "stream",
     "text": [
      "dict_keys(['lat', 'lon', 'realization', 'time', 'dmd'])\n",
      "<class 'netCDF4._netCDF4.Dataset'>\n",
      "root group (NETCDF4 data model, file format HDF5):\n",
      "    dimensions(sizes): lat(185), lon(271), time(84)\n",
      "    variables(dimensions): float64 lat(lat), float64 lon(lon), int64 realization(), int64 time(time), int64 dmd(time, lat, lon)\n",
      "    groups: \n",
      "[    0   366   731  1096  1461  1827  2192  2557  2922  3288  3653  4018\n",
      "  4383  4749  5114  5479  5844  6210  6575  6940  7305  7671  8036  8401\n",
      "  8766  9132  9497  9862 10227 10593 10958 11323 11688 12054 12419 12784\n",
      " 13149 13515 13880 14245 14610 14976 15341 15706 16071 16437 16802 17167\n",
      " 17532 17898 18263 18628 18993 19359 19724 20089 20454 20820 21185 21550\n",
      " 21915 22281 22646 23011 23376 23742 24107 24472 24837 25203 25568 25933\n",
      " 26298 26664 27029 27394 27759 28125 28490 28855 29220 29586 29951 30316]\n",
      "\n",
      "\n",
      "\n",
      "\n",
      "dict_keys(['time', 'realization', 'lat', 'lon', 't2m'])\n",
      "<class 'netCDF4._netCDF4.Dataset'>\n",
      "root group (NETCDF4 data model, file format HDF5):\n",
      "    Conventions: CF-1.7\n",
      "    institution: European Centre for Medium-Range Weather Forecasts\n",
      "    history: 2024-04-02T13:52 GRIB to CDM+CF via cfgrib-0.9.9.1/ecCodes-2.27.0 with {\"source\": \"/nfs/compute-0014/data3/adaptor.mars.internal-1712065708.8353992-6424-6-39247118-b7b6-4b87-8957-46d0ba425a8f.grib\", \"filter_by_keys\": {}, \"encode_cf\": [\"parameter\", \"time\", \"geography\", \"vertical\"]}\n",
      "    source: ECMWF\n",
      "    dimensions(sizes): time(84), lat(185), lon(271)\n",
      "    variables(dimensions): int64 time(time), int64 realization(), float64 lat(lat), float64 lon(lon), float32 t2m(time, lat, lon)\n",
      "    groups: \n",
      "[    0   366   731  1096  1461  1827  2192  2557  2922  3288  3653  4018\n",
      "  4383  4749  5114  5479  5844  6210  6575  6940  7305  7671  8036  8401\n",
      "  8766  9132  9497  9862 10227 10593 10958 11323 11688 12054 12419 12784\n",
      " 13149 13515 13880 14245 14610 14976 15341 15706 16071 16437 16802 17167\n",
      " 17532 17898 18263 18628 18993 19359 19724 20089 20454 20820 21185 21550\n",
      " 21915 22281 22646 23011 23376 23742 24107 24472 24837 25203 25568 25933\n",
      " 26298 26664 27029 27394 27759 28125 28490 28855 29220 29586 29951 30316]\n",
      "\n",
      "\n",
      "\n",
      "\n",
      "dict_keys(['time', 'realization', 'lat', 'lon', 't2m'])\n",
      "<class 'netCDF4._netCDF4.Dataset'>\n",
      "root group (NETCDF4 data model, file format HDF5):\n",
      "    dimensions(sizes): time(84), lat(185), lon(271)\n",
      "    variables(dimensions): int64 time(time), int64 realization(), float64 lat(lat), float64 lon(lon), int64 t2m(time, lat, lon)\n",
      "    groups: \n",
      "[    0   366   731  1096  1461  1827  2192  2557  2922  3288  3653  4018\n",
      "  4383  4749  5114  5479  5844  6210  6575  6940  7305  7671  8036  8401\n",
      "  8766  9132  9497  9862 10227 10593 10958 11323 11688 12054 12419 12784\n",
      " 13149 13515 13880 14245 14610 14976 15341 15706 16071 16437 16802 17167\n",
      " 17532 17898 18263 18628 18993 19359 19724 20089 20454 20820 21185 21550\n",
      " 21915 22281 22646 23011 23376 23742 24107 24472 24837 25203 25568 25933\n",
      " 26298 26664 27029 27394 27759 28125 28490 28855 29220 29586 29951 30316]\n",
      "\n",
      "\n",
      "\n",
      "\n",
      "dict_keys(['time', 'realization', 'lat', 'lon', 't2m'])\n",
      "<class 'netCDF4._netCDF4.Dataset'>\n",
      "root group (NETCDF4 data model, file format HDF5):\n",
      "    dimensions(sizes): time(84), lat(185), lon(271)\n",
      "    variables(dimensions): int64 time(time), int64 realization(), float64 lat(lat), float64 lon(lon), int64 t2m(time, lat, lon)\n",
      "    groups: \n",
      "[    0   366   731  1096  1461  1827  2192  2557  2922  3288  3653  4018\n",
      "  4383  4749  5114  5479  5844  6210  6575  6940  7305  7671  8036  8401\n",
      "  8766  9132  9497  9862 10227 10593 10958 11323 11688 12054 12419 12784\n",
      " 13149 13515 13880 14245 14610 14976 15341 15706 16071 16437 16802 17167\n",
      " 17532 17898 18263 18628 18993 19359 19724 20089 20454 20820 21185 21550\n",
      " 21915 22281 22646 23011 23376 23742 24107 24472 24837 25203 25568 25933\n",
      " 26298 26664 27029 27394 27759 28125 28490 28855 29220 29586 29951 30316]\n",
      "\n",
      "\n",
      "\n",
      "\n"
     ]
    }
   ],
   "source": [
    "file_names = get_and_unpack_data(dataset, request, dir_name)\n",
    "\n",
    "for name in file_names:\n",
    "    read_nc_file(name, dir_name)"
   ]
  },
  {
   "cell_type": "code",
   "execution_count": 9,
   "id": "b02d8411",
   "metadata": {},
   "outputs": [],
   "source": [
    "### REMEMBER TO ADJUST NUMBER OF FILES AND GIVE APPROPIATE KEY NAMES!!!\n",
    "time, lat, lon = get_time_lat_lon(file_names[0], dir_name)\n",
    "\n",
    "mean_temperature = get_val_by_key(file_names[1], 't2m', dir_name)\n",
    "hot_days = get_val_by_key(file_names[3], 't2m', dir_name)\n",
    "frost_days = get_val_by_key(file_names[2], 't2m', dir_name)\n",
    "droughts = get_val_by_key(file_names[0], 'dmd', dir_name)"
   ]
  },
  {
   "cell_type": "code",
   "execution_count": 10,
   "id": "bd0fbc4d",
   "metadata": {},
   "outputs": [],
   "source": [
    "OUTPUT_FILE_NAME = 'reanalysis.csv'\n",
    "l = []\n",
    "\n",
    "l.append('time, lat, lon, mean_t, hot_d, cold_d, droughts')\n",
    "\n",
    "for i, j, k in iter_3D(mean_temperature):\n",
    "    l.append('%d,%.2f,%.2f,%.2f,%d,%d,%d' %((time[i]/365 + 1940), lat[j], lon[k],\n",
    "                                    mean_temperature[i, j, k]-273.15,\n",
    "                                    hot_days[i, j, k],\n",
    "                                    frost_days[i, j, k],\n",
    "                                    droughts[i, j, k]))\n",
    "\n",
    "with open(OUTPUT_FILE_NAME, 'w') as f:\n",
    "    f.write(\"\\n\".join(l))"
   ]
  }
 ],
 "metadata": {
  "kernelspec": {
   "display_name": "Python 3",
   "language": "python",
   "name": "python3"
  },
  "language_info": {
   "codemirror_mode": {
    "name": "ipython",
    "version": 3
   },
   "file_extension": ".py",
   "mimetype": "text/x-python",
   "name": "python",
   "nbconvert_exporter": "python",
   "pygments_lexer": "ipython3",
   "version": "3.10.12"
  }
 },
 "nbformat": 4,
 "nbformat_minor": 5
}
